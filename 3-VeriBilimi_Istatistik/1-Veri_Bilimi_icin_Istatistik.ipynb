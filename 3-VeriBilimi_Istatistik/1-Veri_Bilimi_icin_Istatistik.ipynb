{
 "cells": [
  {
   "cell_type": "markdown",
   "id": "cc1d5b49-e887-418b-8f6f-da8bc5552a40",
   "metadata": {},
   "source": [
    "# Veri Bilimi İçin İstatistik"
   ]
  },
  {
   "cell_type": "markdown",
   "id": "19761f67-7fc6-4841-9816-70fbcdf53a11",
   "metadata": {
    "jp-MarkdownHeadingCollapsed": true,
    "tags": []
   },
   "source": [
    "## Örneklem Teorisi"
   ]
  },
  {
   "cell_type": "code",
   "execution_count": 40,
   "id": "bf712dae-d287-459c-bffa-624c832f572c",
   "metadata": {
    "tags": []
   },
   "outputs": [],
   "source": [
    "import numpy as np"
   ]
  },
  {
   "cell_type": "markdown",
   "id": "18d1689f-cc6d-4e47-8201-d977ff7f5e64",
   "metadata": {},
   "source": [
    "*Örnek Senaryo:*  Bir ilçenin (10000 nüfuslu) yaş ortalamasını bulmak istediğimizi varsayalım. Bunun için numpy da randint fonksiyonunu kullanarak yaşları 0 ile 80 arasında olacak 10000 elemanlı bir array oluşturalım. "
   ]
  },
  {
   "cell_type": "code",
   "execution_count": 41,
   "id": "0e4a100c-79d4-468c-b4f0-b1c3dfbf3b5a",
   "metadata": {
    "tags": []
   },
   "outputs": [],
   "source": [
    "populasyon = np.random.randint(0, 80, 10000) "
   ]
  },
  {
   "cell_type": "code",
   "execution_count": 42,
   "id": "e77684db-60ef-4864-aee6-8dc69486cbf3",
   "metadata": {
    "tags": []
   },
   "outputs": [
    {
     "data": {
      "text/plain": [
       "array([25,  0, 17,  1,  2, 25, 21, 18, 36, 10])"
      ]
     },
     "execution_count": 42,
     "metadata": {},
     "output_type": "execute_result"
    }
   ],
   "source": [
    "populasyon[0:10]"
   ]
  },
  {
   "cell_type": "markdown",
   "id": "a2508eae-d89d-4aff-aad7-1fe34a141f4e",
   "metadata": {
    "tags": []
   },
   "source": [
    "#### Örneklem Çekimi"
   ]
  },
  {
   "cell_type": "code",
   "execution_count": 43,
   "id": "12074818-d7e6-4351-8ae3-2b603814adcd",
   "metadata": {
    "tags": []
   },
   "outputs": [
    {
     "data": {
      "text/plain": [
       "array([63, 61, 62, 49, 13, 12, 32, 28, 14, 39])"
      ]
     },
     "execution_count": 43,
     "metadata": {},
     "output_type": "execute_result"
    }
   ],
   "source": [
    "np.random.seed(115) #seed yapılacak olan işlemlerin her tekrar edildiğinde aynı sonuçları getirmesi garanti altına alan işlem.\n",
    "orneklem = np.random.choice(a = populasyon, size = 100)\n",
    "orneklem[0:10]"
   ]
  },
  {
   "cell_type": "code",
   "execution_count": 44,
   "id": "ed014477-2ef4-4729-87cd-4bee72f4e403",
   "metadata": {
    "tags": []
   },
   "outputs": [
    {
     "data": {
      "text/plain": [
       "41.29"
      ]
     },
     "execution_count": 44,
     "metadata": {},
     "output_type": "execute_result"
    }
   ],
   "source": [
    "orneklem.mean()"
   ]
  },
  {
   "cell_type": "code",
   "execution_count": 45,
   "id": "cc22566b-4ace-488f-bf0f-555f20e598f4",
   "metadata": {
    "tags": []
   },
   "outputs": [
    {
     "data": {
      "text/plain": [
       "39.3233"
      ]
     },
     "execution_count": 45,
     "metadata": {},
     "output_type": "execute_result"
    }
   ],
   "source": [
    "populasyon.mean()"
   ]
  },
  {
   "cell_type": "markdown",
   "id": "f4da1ff6-9cbf-4439-ab92-21d63cfbd2ae",
   "metadata": {},
   "source": [
    "#### Örneklem Dağılımı"
   ]
  },
  {
   "cell_type": "code",
   "execution_count": 46,
   "id": "de71f312-2097-4cb8-b697-1806255860bb",
   "metadata": {
    "tags": []
   },
   "outputs": [],
   "source": [
    "np.random.seed(10)\n",
    "orneklem1 = np.random.choice(a = populasyon, size = 100)\n",
    "orneklem2 = np.random.choice(a = populasyon, size = 100)\n",
    "orneklem3 = np.random.choice(a = populasyon, size = 100)\n",
    "orneklem4 = np.random.choice(a = populasyon, size = 100)\n",
    "orneklem5 = np.random.choice(a = populasyon, size = 100)\n",
    "orneklem6 = np.random.choice(a = populasyon, size = 100)\n",
    "orneklem7 = np.random.choice(a = populasyon, size = 100)\n",
    "orneklem8 = np.random.choice(a = populasyon, size = 100)\n",
    "orneklem9 = np.random.choice(a = populasyon, size = 100)\n",
    "orneklem10 = np.random.choice(a = populasyon, size = 100)"
   ]
  },
  {
   "cell_type": "code",
   "execution_count": 47,
   "id": "a1628d0f-fe22-469c-b2bf-a8e1d1823191",
   "metadata": {
    "tags": []
   },
   "outputs": [
    {
     "data": {
      "text/plain": [
       "38.46399999999999"
      ]
     },
     "execution_count": 47,
     "metadata": {},
     "output_type": "execute_result"
    }
   ],
   "source": [
    "(orneklem1.mean() +  orneklem2.mean() + orneklem3.mean() + orneklem4.mean() + orneklem5.mean() + orneklem6.mean() + orneklem7.mean() + orneklem8.mean()\n",
    " + orneklem9.mean() + orneklem10.mean()) / 10"
   ]
  },
  {
   "cell_type": "markdown",
   "id": "0d03ce41-540c-4856-b084-d726d88cbe81",
   "metadata": {
    "jp-MarkdownHeadingCollapsed": true,
    "tags": []
   },
   "source": [
    "## Betimsel İstatistikler"
   ]
  },
  {
   "cell_type": "code",
   "execution_count": 48,
   "id": "743ceb82-6d51-4036-b915-76aead41b304",
   "metadata": {
    "tags": []
   },
   "outputs": [
    {
     "data": {
      "text/html": [
       "<div>\n",
       "<style scoped>\n",
       "    .dataframe tbody tr th:only-of-type {\n",
       "        vertical-align: middle;\n",
       "    }\n",
       "\n",
       "    .dataframe tbody tr th {\n",
       "        vertical-align: top;\n",
       "    }\n",
       "\n",
       "    .dataframe thead th {\n",
       "        text-align: right;\n",
       "    }\n",
       "</style>\n",
       "<table border=\"1\" class=\"dataframe\">\n",
       "  <thead>\n",
       "    <tr style=\"text-align: right;\">\n",
       "      <th></th>\n",
       "      <th>total_bill</th>\n",
       "      <th>tip</th>\n",
       "      <th>sex</th>\n",
       "      <th>smoker</th>\n",
       "      <th>day</th>\n",
       "      <th>time</th>\n",
       "      <th>size</th>\n",
       "    </tr>\n",
       "  </thead>\n",
       "  <tbody>\n",
       "    <tr>\n",
       "      <th>0</th>\n",
       "      <td>16.99</td>\n",
       "      <td>1.01</td>\n",
       "      <td>Female</td>\n",
       "      <td>No</td>\n",
       "      <td>Sun</td>\n",
       "      <td>Dinner</td>\n",
       "      <td>2</td>\n",
       "    </tr>\n",
       "    <tr>\n",
       "      <th>1</th>\n",
       "      <td>10.34</td>\n",
       "      <td>1.66</td>\n",
       "      <td>Male</td>\n",
       "      <td>No</td>\n",
       "      <td>Sun</td>\n",
       "      <td>Dinner</td>\n",
       "      <td>3</td>\n",
       "    </tr>\n",
       "    <tr>\n",
       "      <th>2</th>\n",
       "      <td>21.01</td>\n",
       "      <td>3.50</td>\n",
       "      <td>Male</td>\n",
       "      <td>No</td>\n",
       "      <td>Sun</td>\n",
       "      <td>Dinner</td>\n",
       "      <td>3</td>\n",
       "    </tr>\n",
       "    <tr>\n",
       "      <th>3</th>\n",
       "      <td>23.68</td>\n",
       "      <td>3.31</td>\n",
       "      <td>Male</td>\n",
       "      <td>No</td>\n",
       "      <td>Sun</td>\n",
       "      <td>Dinner</td>\n",
       "      <td>2</td>\n",
       "    </tr>\n",
       "    <tr>\n",
       "      <th>4</th>\n",
       "      <td>24.59</td>\n",
       "      <td>3.61</td>\n",
       "      <td>Female</td>\n",
       "      <td>No</td>\n",
       "      <td>Sun</td>\n",
       "      <td>Dinner</td>\n",
       "      <td>4</td>\n",
       "    </tr>\n",
       "  </tbody>\n",
       "</table>\n",
       "</div>"
      ],
      "text/plain": [
       "   total_bill   tip     sex smoker  day    time  size\n",
       "0       16.99  1.01  Female     No  Sun  Dinner     2\n",
       "1       10.34  1.66    Male     No  Sun  Dinner     3\n",
       "2       21.01  3.50    Male     No  Sun  Dinner     3\n",
       "3       23.68  3.31    Male     No  Sun  Dinner     2\n",
       "4       24.59  3.61  Female     No  Sun  Dinner     4"
      ]
     },
     "execution_count": 48,
     "metadata": {},
     "output_type": "execute_result"
    }
   ],
   "source": [
    "import seaborn as sns\n",
    "tips = sns.load_dataset(\"tips\")\n",
    "df = tips.copy()\n",
    "df.head()"
   ]
  },
  {
   "cell_type": "code",
   "execution_count": 49,
   "id": "52ff9c68-411b-48c3-ac32-b357e035eb97",
   "metadata": {
    "tags": []
   },
   "outputs": [
    {
     "data": {
      "text/html": [
       "<div>\n",
       "<style scoped>\n",
       "    .dataframe tbody tr th:only-of-type {\n",
       "        vertical-align: middle;\n",
       "    }\n",
       "\n",
       "    .dataframe tbody tr th {\n",
       "        vertical-align: top;\n",
       "    }\n",
       "\n",
       "    .dataframe thead th {\n",
       "        text-align: right;\n",
       "    }\n",
       "</style>\n",
       "<table border=\"1\" class=\"dataframe\">\n",
       "  <thead>\n",
       "    <tr style=\"text-align: right;\">\n",
       "      <th></th>\n",
       "      <th>count</th>\n",
       "      <th>mean</th>\n",
       "      <th>std</th>\n",
       "      <th>min</th>\n",
       "      <th>25%</th>\n",
       "      <th>50%</th>\n",
       "      <th>75%</th>\n",
       "      <th>max</th>\n",
       "    </tr>\n",
       "  </thead>\n",
       "  <tbody>\n",
       "    <tr>\n",
       "      <th>total_bill</th>\n",
       "      <td>244.0</td>\n",
       "      <td>19.785943</td>\n",
       "      <td>8.902412</td>\n",
       "      <td>3.07</td>\n",
       "      <td>13.3475</td>\n",
       "      <td>17.795</td>\n",
       "      <td>24.1275</td>\n",
       "      <td>50.81</td>\n",
       "    </tr>\n",
       "    <tr>\n",
       "      <th>tip</th>\n",
       "      <td>244.0</td>\n",
       "      <td>2.998279</td>\n",
       "      <td>1.383638</td>\n",
       "      <td>1.00</td>\n",
       "      <td>2.0000</td>\n",
       "      <td>2.900</td>\n",
       "      <td>3.5625</td>\n",
       "      <td>10.00</td>\n",
       "    </tr>\n",
       "    <tr>\n",
       "      <th>size</th>\n",
       "      <td>244.0</td>\n",
       "      <td>2.569672</td>\n",
       "      <td>0.951100</td>\n",
       "      <td>1.00</td>\n",
       "      <td>2.0000</td>\n",
       "      <td>2.000</td>\n",
       "      <td>3.0000</td>\n",
       "      <td>6.00</td>\n",
       "    </tr>\n",
       "  </tbody>\n",
       "</table>\n",
       "</div>"
      ],
      "text/plain": [
       "            count       mean       std   min      25%     50%      75%    max\n",
       "total_bill  244.0  19.785943  8.902412  3.07  13.3475  17.795  24.1275  50.81\n",
       "tip         244.0   2.998279  1.383638  1.00   2.0000   2.900   3.5625  10.00\n",
       "size        244.0   2.569672  0.951100  1.00   2.0000   2.000   3.0000   6.00"
      ]
     },
     "execution_count": 49,
     "metadata": {},
     "output_type": "execute_result"
    }
   ],
   "source": [
    "df.describe().T"
   ]
  },
  {
   "cell_type": "code",
   "execution_count": 50,
   "id": "d9b880d0-752b-4038-a4b1-db3fd96bbd06",
   "metadata": {
    "tags": []
   },
   "outputs": [
    {
     "name": "stdout",
     "output_type": "stream",
     "text": [
      "Requirement already satisfied: researchpy in c:\\users\\bahri\\anaconda3\\lib\\site-packages (0.3.6)\n",
      "Requirement already satisfied: scipy in c:\\users\\bahri\\anaconda3\\lib\\site-packages (from researchpy) (1.11.1)\n",
      "Requirement already satisfied: numpy in c:\\users\\bahri\\anaconda3\\lib\\site-packages (from researchpy) (1.24.3)\n",
      "Requirement already satisfied: pandas in c:\\users\\bahri\\anaconda3\\lib\\site-packages (from researchpy) (2.0.3)\n",
      "Requirement already satisfied: statsmodels in c:\\users\\bahri\\anaconda3\\lib\\site-packages (from researchpy) (0.14.0)\n",
      "Requirement already satisfied: patsy in c:\\users\\bahri\\anaconda3\\lib\\site-packages (from researchpy) (0.5.3)\n",
      "Requirement already satisfied: python-dateutil>=2.8.2 in c:\\users\\bahri\\anaconda3\\lib\\site-packages (from pandas->researchpy) (2.8.2)\n",
      "Requirement already satisfied: pytz>=2020.1 in c:\\users\\bahri\\anaconda3\\lib\\site-packages (from pandas->researchpy) (2023.3.post1)\n",
      "Requirement already satisfied: tzdata>=2022.1 in c:\\users\\bahri\\anaconda3\\lib\\site-packages (from pandas->researchpy) (2023.3)\n",
      "Requirement already satisfied: six in c:\\users\\bahri\\anaconda3\\lib\\site-packages (from patsy->researchpy) (1.16.0)\n",
      "Requirement already satisfied: packaging>=21.3 in c:\\users\\bahri\\anaconda3\\lib\\site-packages (from statsmodels->researchpy) (23.1)\n"
     ]
    }
   ],
   "source": [
    "!pip install researchpy\n",
    "import researchpy as rp"
   ]
  },
  {
   "cell_type": "code",
   "execution_count": 51,
   "id": "9b7bce8f-677b-45c8-b4cf-b3911cb68bd7",
   "metadata": {
    "tags": []
   },
   "outputs": [
    {
     "name": "stdout",
     "output_type": "stream",
     "text": [
      "\n",
      "\n"
     ]
    },
    {
     "data": {
      "text/html": [
       "<div>\n",
       "<style scoped>\n",
       "    .dataframe tbody tr th:only-of-type {\n",
       "        vertical-align: middle;\n",
       "    }\n",
       "\n",
       "    .dataframe tbody tr th {\n",
       "        vertical-align: top;\n",
       "    }\n",
       "\n",
       "    .dataframe thead th {\n",
       "        text-align: right;\n",
       "    }\n",
       "</style>\n",
       "<table border=\"1\" class=\"dataframe\">\n",
       "  <thead>\n",
       "    <tr style=\"text-align: right;\">\n",
       "      <th></th>\n",
       "      <th>Variable</th>\n",
       "      <th>N</th>\n",
       "      <th>Mean</th>\n",
       "      <th>SD</th>\n",
       "      <th>SE</th>\n",
       "      <th>95% Conf.</th>\n",
       "      <th>Interval</th>\n",
       "    </tr>\n",
       "  </thead>\n",
       "  <tbody>\n",
       "    <tr>\n",
       "      <th>0</th>\n",
       "      <td>total_bill</td>\n",
       "      <td>244.0</td>\n",
       "      <td>19.7859</td>\n",
       "      <td>8.9024</td>\n",
       "      <td>0.5699</td>\n",
       "      <td>18.6633</td>\n",
       "      <td>20.9086</td>\n",
       "    </tr>\n",
       "    <tr>\n",
       "      <th>1</th>\n",
       "      <td>tip</td>\n",
       "      <td>244.0</td>\n",
       "      <td>2.9983</td>\n",
       "      <td>1.3836</td>\n",
       "      <td>0.0886</td>\n",
       "      <td>2.8238</td>\n",
       "      <td>3.1728</td>\n",
       "    </tr>\n",
       "    <tr>\n",
       "      <th>2</th>\n",
       "      <td>size</td>\n",
       "      <td>244.0</td>\n",
       "      <td>2.5697</td>\n",
       "      <td>0.9511</td>\n",
       "      <td>0.0609</td>\n",
       "      <td>2.4497</td>\n",
       "      <td>2.6896</td>\n",
       "    </tr>\n",
       "  </tbody>\n",
       "</table>\n",
       "</div>"
      ],
      "text/plain": [
       "     Variable      N     Mean      SD      SE  95% Conf.  Interval\n",
       "0  total_bill  244.0  19.7859  8.9024  0.5699    18.6633   20.9086\n",
       "1         tip  244.0   2.9983  1.3836  0.0886     2.8238    3.1728\n",
       "2        size  244.0   2.5697  0.9511  0.0609     2.4497    2.6896"
      ]
     },
     "execution_count": 51,
     "metadata": {},
     "output_type": "execute_result"
    }
   ],
   "source": [
    "rp.summary_cont(df[[\"total_bill\", \"tip\", \"size\"]])"
   ]
  },
  {
   "cell_type": "code",
   "execution_count": 52,
   "id": "9d27482c-984d-41dc-89b0-1dfcd5705cda",
   "metadata": {
    "tags": []
   },
   "outputs": [
    {
     "data": {
      "text/html": [
       "<div>\n",
       "<style scoped>\n",
       "    .dataframe tbody tr th:only-of-type {\n",
       "        vertical-align: middle;\n",
       "    }\n",
       "\n",
       "    .dataframe tbody tr th {\n",
       "        vertical-align: top;\n",
       "    }\n",
       "\n",
       "    .dataframe thead th {\n",
       "        text-align: right;\n",
       "    }\n",
       "</style>\n",
       "<table border=\"1\" class=\"dataframe\">\n",
       "  <thead>\n",
       "    <tr style=\"text-align: right;\">\n",
       "      <th></th>\n",
       "      <th>Variable</th>\n",
       "      <th>Outcome</th>\n",
       "      <th>Count</th>\n",
       "      <th>Percent</th>\n",
       "    </tr>\n",
       "  </thead>\n",
       "  <tbody>\n",
       "    <tr>\n",
       "      <th>0</th>\n",
       "      <td>sex</td>\n",
       "      <td>Male</td>\n",
       "      <td>157</td>\n",
       "      <td>64.34</td>\n",
       "    </tr>\n",
       "    <tr>\n",
       "      <th>1</th>\n",
       "      <td></td>\n",
       "      <td>Female</td>\n",
       "      <td>87</td>\n",
       "      <td>35.66</td>\n",
       "    </tr>\n",
       "    <tr>\n",
       "      <th>2</th>\n",
       "      <td>smoker</td>\n",
       "      <td>No</td>\n",
       "      <td>151</td>\n",
       "      <td>61.89</td>\n",
       "    </tr>\n",
       "    <tr>\n",
       "      <th>3</th>\n",
       "      <td></td>\n",
       "      <td>Yes</td>\n",
       "      <td>93</td>\n",
       "      <td>38.11</td>\n",
       "    </tr>\n",
       "    <tr>\n",
       "      <th>4</th>\n",
       "      <td>day</td>\n",
       "      <td>Sat</td>\n",
       "      <td>87</td>\n",
       "      <td>35.66</td>\n",
       "    </tr>\n",
       "    <tr>\n",
       "      <th>5</th>\n",
       "      <td></td>\n",
       "      <td>Sun</td>\n",
       "      <td>76</td>\n",
       "      <td>31.15</td>\n",
       "    </tr>\n",
       "    <tr>\n",
       "      <th>6</th>\n",
       "      <td></td>\n",
       "      <td>Thur</td>\n",
       "      <td>62</td>\n",
       "      <td>25.41</td>\n",
       "    </tr>\n",
       "    <tr>\n",
       "      <th>7</th>\n",
       "      <td></td>\n",
       "      <td>Fri</td>\n",
       "      <td>19</td>\n",
       "      <td>7.79</td>\n",
       "    </tr>\n",
       "  </tbody>\n",
       "</table>\n",
       "</div>"
      ],
      "text/plain": [
       "  Variable Outcome  Count  Percent\n",
       "0      sex    Male    157    64.34\n",
       "1           Female     87    35.66\n",
       "2   smoker      No    151    61.89\n",
       "3              Yes     93    38.11\n",
       "4      day     Sat     87    35.66\n",
       "5              Sun     76    31.15\n",
       "6             Thur     62    25.41\n",
       "7              Fri     19     7.79"
      ]
     },
     "execution_count": 52,
     "metadata": {},
     "output_type": "execute_result"
    }
   ],
   "source": [
    "rp.summary_cat(df[[\"sex\", \"smoker\", \"day\"]])"
   ]
  },
  {
   "cell_type": "code",
   "execution_count": 53,
   "id": "b3bb3bc9-dad7-4130-8f3f-625d413e0279",
   "metadata": {
    "tags": []
   },
   "outputs": [
    {
     "data": {
      "text/html": [
       "<div>\n",
       "<style scoped>\n",
       "    .dataframe tbody tr th:only-of-type {\n",
       "        vertical-align: middle;\n",
       "    }\n",
       "\n",
       "    .dataframe tbody tr th {\n",
       "        vertical-align: top;\n",
       "    }\n",
       "\n",
       "    .dataframe thead th {\n",
       "        text-align: right;\n",
       "    }\n",
       "</style>\n",
       "<table border=\"1\" class=\"dataframe\">\n",
       "  <thead>\n",
       "    <tr style=\"text-align: right;\">\n",
       "      <th></th>\n",
       "      <th>tip</th>\n",
       "      <th>total_bill</th>\n",
       "    </tr>\n",
       "  </thead>\n",
       "  <tbody>\n",
       "    <tr>\n",
       "      <th>tip</th>\n",
       "      <td>1.914455</td>\n",
       "      <td>8.323502</td>\n",
       "    </tr>\n",
       "    <tr>\n",
       "      <th>total_bill</th>\n",
       "      <td>8.323502</td>\n",
       "      <td>79.252939</td>\n",
       "    </tr>\n",
       "  </tbody>\n",
       "</table>\n",
       "</div>"
      ],
      "text/plain": [
       "                 tip  total_bill\n",
       "tip         1.914455    8.323502\n",
       "total_bill  8.323502   79.252939"
      ]
     },
     "execution_count": 53,
     "metadata": {},
     "output_type": "execute_result"
    }
   ],
   "source": [
    "df[[\"tip\", \"total_bill\"]].cov() # kovaryans "
   ]
  },
  {
   "cell_type": "code",
   "execution_count": 54,
   "id": "09349a1f-9974-4deb-b84c-6b43183e6c08",
   "metadata": {
    "tags": []
   },
   "outputs": [
    {
     "data": {
      "text/html": [
       "<div>\n",
       "<style scoped>\n",
       "    .dataframe tbody tr th:only-of-type {\n",
       "        vertical-align: middle;\n",
       "    }\n",
       "\n",
       "    .dataframe tbody tr th {\n",
       "        vertical-align: top;\n",
       "    }\n",
       "\n",
       "    .dataframe thead th {\n",
       "        text-align: right;\n",
       "    }\n",
       "</style>\n",
       "<table border=\"1\" class=\"dataframe\">\n",
       "  <thead>\n",
       "    <tr style=\"text-align: right;\">\n",
       "      <th></th>\n",
       "      <th>tip</th>\n",
       "      <th>total_bill</th>\n",
       "    </tr>\n",
       "  </thead>\n",
       "  <tbody>\n",
       "    <tr>\n",
       "      <th>tip</th>\n",
       "      <td>1.000000</td>\n",
       "      <td>0.675734</td>\n",
       "    </tr>\n",
       "    <tr>\n",
       "      <th>total_bill</th>\n",
       "      <td>0.675734</td>\n",
       "      <td>1.000000</td>\n",
       "    </tr>\n",
       "  </tbody>\n",
       "</table>\n",
       "</div>"
      ],
      "text/plain": [
       "                 tip  total_bill\n",
       "tip         1.000000    0.675734\n",
       "total_bill  0.675734    1.000000"
      ]
     },
     "execution_count": 54,
     "metadata": {},
     "output_type": "execute_result"
    }
   ],
   "source": [
    "df[[\"tip\", \"total_bill\"]].corr() # koralasyon "
   ]
  },
  {
   "cell_type": "markdown",
   "id": "0116b11b-0c0a-41c8-a1d7-6c57f1f3429b",
   "metadata": {
    "jp-MarkdownHeadingCollapsed": true,
    "tags": []
   },
   "source": [
    "## İş Uygulaması: Fiayt Stratejisi Karar Destek"
   ]
  },
  {
   "cell_type": "code",
   "execution_count": 55,
   "id": "b0b66c6d-784c-4e91-9968-53d056eb7b34",
   "metadata": {
    "tags": []
   },
   "outputs": [],
   "source": [
    "fiyatlar = np.random.randint(10,110, 1000)"
   ]
  },
  {
   "cell_type": "code",
   "execution_count": 56,
   "id": "a8523005-66c1-4b1f-8eba-134b232bf0dd",
   "metadata": {
    "tags": []
   },
   "outputs": [
    {
     "data": {
      "text/plain": [
       "58.492"
      ]
     },
     "execution_count": 56,
     "metadata": {},
     "output_type": "execute_result"
    }
   ],
   "source": [
    "fiyatlar.mean()"
   ]
  },
  {
   "cell_type": "code",
   "execution_count": 57,
   "id": "53bb4f22-d3be-49bc-9242-6f4bdb5bcfd5",
   "metadata": {
    "tags": []
   },
   "outputs": [],
   "source": [
    "import statsmodels.stats.api as sms"
   ]
  },
  {
   "cell_type": "code",
   "execution_count": 58,
   "id": "c8e8362f-ea41-4f58-a09e-cb93b53625c8",
   "metadata": {
    "tags": []
   },
   "outputs": [
    {
     "data": {
      "text/plain": [
       "(56.67953887736034, 60.30446112263965)"
      ]
     },
     "execution_count": 58,
     "metadata": {},
     "output_type": "execute_result"
    }
   ],
   "source": [
    "sms.DescrStatsW(fiyatlar).tconfint_mean()"
   ]
  },
  {
   "cell_type": "markdown",
   "id": "6d78f9ad-e18c-4884-8f6c-69678b5604a9",
   "metadata": {
    "tags": []
   },
   "source": [
    "## Olasılık Dağılımları"
   ]
  },
  {
   "cell_type": "markdown",
   "id": "d286fb05-2cac-498b-a81d-a662d7ed2448",
   "metadata": {
    "jp-MarkdownHeadingCollapsed": true,
    "tags": []
   },
   "source": [
    "### Bernoulli Dağılımı"
   ]
  },
  {
   "cell_type": "markdown",
   "id": "028b638d-cf86-4138-a6bd-da3bd4fc4d1b",
   "metadata": {},
   "source": [
    "Başarılı-Başarısız, olumlu-olumsuz şeklindeki iki sonuçlu olaylar ilgilenildiğinde kullanılan kesikli olasılık dağılımıdır."
   ]
  },
  {
   "cell_type": "markdown",
   "id": "0bd9c177-4173-4dbd-b065-7a517d821a5f",
   "metadata": {},
   "source": [
    "${\\displaystyle f(k;p)=p^{k}(1-p)^{1-k}\\quad {\\text{for }}k\\in \\{0,1\\}}$\n",
    "\n",
    "\n",
    "${\\displaystyle \\operatorname {E} \\left(X\\right)=p}$\n",
    "\n",
    "$\\operatorname {Var} [X]=pq=p(1-p)$"
   ]
  },
  {
   "cell_type": "code",
   "execution_count": 86,
   "id": "6f9d88ce-a0e1-4393-a469-816857f42a49",
   "metadata": {
    "tags": []
   },
   "outputs": [],
   "source": [
    "from scipy.stats import bernoulli # bernoulli dağılımını kullanmak için scipy kütüphanesi altındaki stats sınıfını kullanıyoruz."
   ]
  },
  {
   "cell_type": "code",
   "execution_count": 87,
   "id": "910c5e7a-b2c8-475d-b161-c61f860dc393",
   "metadata": {
    "tags": []
   },
   "outputs": [],
   "source": [
    "p = 0.6 "
   ]
  },
  {
   "cell_type": "code",
   "execution_count": 61,
   "id": "eccac45a-8e15-4b60-8349-5a715d07b78d",
   "metadata": {
    "tags": []
   },
   "outputs": [
    {
     "data": {
      "text/plain": [
       "0.4000000000000001"
      ]
     },
     "execution_count": 61,
     "metadata": {},
     "output_type": "execute_result"
    }
   ],
   "source": [
    "rv = bernoulli(p)\n",
    "rv.pmf(k = 0)"
   ]
  },
  {
   "cell_type": "markdown",
   "id": "a9c78cf8-6e5e-4075-9e70-3416109a5df1",
   "metadata": {
    "jp-MarkdownHeadingCollapsed": true,
    "tags": []
   },
   "source": [
    "### Büyük Sayılar Yasası"
   ]
  },
  {
   "cell_type": "markdown",
   "id": "0521fbaa-33ec-4b4a-b9cf-d210a9eedc5c",
   "metadata": {},
   "source": [
    "Bir rassal değişkenin uzun vadeli kararlılığını tanımlayan olasılık teoremidir. Kısaca bir deney veya rastgele olayın tekrar sayısı arttıkça, gözlemlenen ortalamanın teorik (beklenen) ortalamaya yaklaşacağını ifade eder."
   ]
  },
  {
   "cell_type": "markdown",
   "id": "63ac68f4-a1ff-47ce-9448-3b09d29b36eb",
   "metadata": {},
   "source": [
    "Aşağıdaki deney de bir madeni paranın havaya atılması durumunda yazı ya da tura gelme olasılığı hesaplanmaktadır. Bir madeni para 1 kere havaya atldığında yazı yada  tura gelme olasılığı %50 dir. Bu para kaç defa atılırsa atılsın bu ihtimal her zaman %50 ye yakın olacaktr."
   ]
  },
  {
   "cell_type": "code",
   "execution_count": 62,
   "id": "7f1720db-7795-4682-8182-1e01ea9cd801",
   "metadata": {
    "tags": []
   },
   "outputs": [
    {
     "name": "stdout",
     "output_type": "stream",
     "text": [
      "Atış Sayısı: 2 ---- Yazı Olasılığı: 100.00\n",
      "Atış Sayısı: 4 ---- Yazı Olasılığı: 75.00\n",
      "Atış Sayısı: 8 ---- Yazı Olasılığı: 50.00\n",
      "Atış Sayısı: 16 ---- Yazı Olasılığı: 43.75\n",
      "Atış Sayısı: 32 ---- Yazı Olasılığı: 59.38\n",
      "Atış Sayısı: 64 ---- Yazı Olasılığı: 51.56\n",
      "Atış Sayısı: 128 ---- Yazı Olasılığı: 46.88\n",
      "Atış Sayısı: 256 ---- Yazı Olasılığı: 49.22\n",
      "Atış Sayısı: 512 ---- Yazı Olasılığı: 55.47\n",
      "Atış Sayısı: 1024 ---- Yazı Olasılığı: 51.46\n",
      "Atış Sayısı: 2048 ---- Yazı Olasılığı: 50.10\n",
      "Atış Sayısı: 4096 ---- Yazı Olasılığı: 49.39\n",
      "Atış Sayısı: 8192 ---- Yazı Olasılığı: 49.55\n",
      "Atış Sayısı: 16384 ---- Yazı Olasılığı: 49.78\n",
      "Atış Sayısı: 32768 ---- Yazı Olasılığı: 50.13\n",
      "Atış Sayısı: 65536 ---- Yazı Olasılığı: 49.78\n",
      "Atış Sayısı: 131072 ---- Yazı Olasılığı: 50.05\n",
      "Atış Sayısı: 262144 ---- Yazı Olasılığı: 50.07\n",
      "Atış Sayısı: 524288 ---- Yazı Olasılığı: 50.07\n",
      "Atış Sayısı: 1048576 ---- Yazı Olasılığı: 50.00\n"
     ]
    }
   ],
   "source": [
    "import numpy as np\n",
    "rng = np.random.RandomState(125)\n",
    "for i in np.arange(1,21):\n",
    "    deney_sayisi = 2**i\n",
    "    yazi_turalar = rng.randint(0,2 , size= deney_sayisi)\n",
    "    yazi_olasiliklari = np.mean(yazi_turalar)\n",
    "    print(\"Atış Sayısı:\", deney_sayisi, \"----\", 'Yazı Olasılığı: %.2f' % (yazi_olasiliklari * 100))"
   ]
  },
  {
   "cell_type": "markdown",
   "id": "91320888-99a0-4bf2-8292-a210ab5d2abf",
   "metadata": {
    "jp-MarkdownHeadingCollapsed": true,
    "tags": []
   },
   "source": [
    "### Binom Dağılımı"
   ]
  },
  {
   "cell_type": "markdown",
   "id": "b63a12f2-9a84-430c-b29a-14c2a03431b2",
   "metadata": {},
   "source": [
    "${\\displaystyle f(k;n,p)={n \\choose k}p^{k}(1-p)^{n-k}}$, k = 0, 1, 2, ...,n\n",
    "\n",
    "\n",
    "${\\displaystyle \\operatorname {E} (X)=np}$\n",
    "\n",
    "\n",
    "${\\displaystyle \\operatorname {Var} (X)=np(1-p)}$"
   ]
  },
  {
   "cell_type": "code",
   "execution_count": 63,
   "id": "3ce495c1-b451-45b6-bab0-307985aa4a7a",
   "metadata": {
    "tags": []
   },
   "outputs": [],
   "source": [
    "from scipy.stats import binom"
   ]
  },
  {
   "cell_type": "markdown",
   "id": "3da735fb-6605-4a72-ab84-5c333a00bf6e",
   "metadata": {},
   "source": [
    "Bir online alışveriş sitesi bir platformda reklam vermek istiyor. Bu alışveriş sitesi daha önce yaptığı çalışmada reklamlarınıın tıklanma olasılığını 0.01 olarak hesaplamıştır. Buna göre vereceği reklamı 100 kişi gördüğünde 1, 5 ve 10 kez tıklanma olasılıkları nedir hesaplamak istiyor."
   ]
  },
  {
   "cell_type": "code",
   "execution_count": 64,
   "id": "a86c40c6-cf5b-44a2-8816-17331d85f380",
   "metadata": {
    "tags": []
   },
   "outputs": [
    {
     "name": "stdout",
     "output_type": "stream",
     "text": [
      " Reklamın 1 kez tıklanma olasılığı:0.36972963764972666\n",
      " Reklamın 5 kez tıklanma olasılığı:0.002897787123761478\n",
      " Reklamın 10 kez tıklanma olasılığı:7.006035693977194e-08\n"
     ]
    }
   ],
   "source": [
    "p = 0.01\n",
    "n = 100\n",
    "rv = binom(n,p)\n",
    "print(f\" Reklamın 1 kez tıklanma olasılığı:{rv.pmf(1)}\")\n",
    "print(f\" Reklamın 5 kez tıklanma olasılığı:{rv.pmf(5)}\")\n",
    "print(f\" Reklamın 10 kez tıklanma olasılığı:{rv.pmf(10)}\")"
   ]
  },
  {
   "cell_type": "markdown",
   "id": "247ec821-3879-47c2-84c4-aeadb7bfe253",
   "metadata": {
    "jp-MarkdownHeadingCollapsed": true,
    "tags": []
   },
   "source": [
    "### Poisson Dağılımı"
   ]
  },
  {
   "cell_type": "markdown",
   "id": "223d47e5-b170-43c6-beb1-e1731bf58423",
   "metadata": {},
   "source": [
    "Poisson dağılımı, belirli bir zaman diliminde veya alanda, nadir veya bağımsız olayların sabit bir ortalama hızla gerçekleşme olasılığını modellemek için kullanılan bir olasılık dağılımıdır. Örneğin, bir saatte bir web sitesine gelen kullanıcı sayısı gibi."
   ]
  },
  {
   "cell_type": "markdown",
   "id": "75b4bfc8-3858-4487-96e4-15a49bfda022",
   "metadata": {},
   "source": [
    "${\\displaystyle f(x,\\lambda )={\\frac {\\lambda ^{x}e^{-\\lambda }}{x!}}\\,\\!}$,  x = 0,1,2,...,n"
   ]
  },
  {
   "cell_type": "markdown",
   "id": "5c92a2ab-83fd-4dbb-acf2-989dce469dda",
   "metadata": {},
   "source": [
    "Aşağıda Bir ilan sitesine hatalı ilan girişi olma olasılıklarını hesaplama örneğidir.\n",
    "\n",
    "-- Bir yıl boyunca ölçümler yapılıyor.\n",
    "\n",
    "-- Dağılım biliniyor (Poisson) ve lambda 0.1 (ortalama hata sayısı)\n",
    "\n",
    "-- Hiç hata olmaması, 3 hata olması ve 5 hata olmasu olasılıkları nedir?"
   ]
  },
  {
   "cell_type": "code",
   "execution_count": 65,
   "id": "7bbd0eec-b763-4986-9d7a-f9454ba3e308",
   "metadata": {
    "tags": []
   },
   "outputs": [],
   "source": [
    "from scipy.stats import poisson"
   ]
  },
  {
   "cell_type": "code",
   "execution_count": 66,
   "id": "2970c7b2-e69c-4c68-9175-3307e1e4118e",
   "metadata": {
    "tags": []
   },
   "outputs": [],
   "source": [
    "lambda_ = 0.1"
   ]
  },
  {
   "cell_type": "code",
   "execution_count": 67,
   "id": "53f42197-3c47-4a8d-ba83-5fd4aa196b4a",
   "metadata": {
    "tags": []
   },
   "outputs": [
    {
     "name": "stdout",
     "output_type": "stream",
     "text": [
      "Hiç hata olmama olasılığı: 0.9048374180359595\n",
      "3 hata olma olasılığı: 0.00015080623633932676\n",
      "5 hata olma olasılığı: 7.54031181696634e-08\n"
     ]
    }
   ],
   "source": [
    "rv = poisson(mu = lambda_)\n",
    "print(f\"Hiç hata olmama olasılığı: {rv.pmf(k = 0)}\")\n",
    "print(f\"3 hata olma olasılığı: {rv.pmf(k = 3)}\")\n",
    "print(f\"5 hata olma olasılığı: {rv.pmf(k = 5)}\")"
   ]
  },
  {
   "cell_type": "markdown",
   "id": "e7477975-83fc-441e-ab94-a4dfdd91fd26",
   "metadata": {
    "jp-MarkdownHeadingCollapsed": true,
    "tags": []
   },
   "source": [
    "### Normal Dağılım"
   ]
  },
  {
   "cell_type": "markdown",
   "id": "4ae387f7-0488-42eb-8d44-ff6aafeeb400",
   "metadata": {},
   "source": [
    "Normal dağıldığı bilinen sürekli rassal değişkenler için olasılık hesaplaması için kullanılır."
   ]
  },
  {
   "cell_type": "markdown",
   "id": "cb07e1de-6d8f-48ca-9016-0b2960d159ef",
   "metadata": {},
   "source": [
    "${\\displaystyle f(x\\mid \\mu ,\\sigma ^{2})={\\frac {1}{\\sqrt {2\\pi \\sigma ^{2}}}}e^{-{\\frac {(x-\\mu )^{2}}{2\\sigma ^{2}}}}}$\n",
    "\n",
    "* $\\mu$  ortalama ya da dağılımın beklenen değeri\n",
    "\n",
    "* ${\\displaystyle \\sigma }$  standart sapma\n",
    "\n",
    "* ${\\displaystyle \\sigma ^{2}}$ varyans"
   ]
  },
  {
   "cell_type": "markdown",
   "id": "b5e90fbf-02ca-4688-89b2-fd69c48c368a",
   "metadata": {
    "tags": []
   },
   "source": [
    "##### Uygulama Örneği:"
   ]
  },
  {
   "cell_type": "markdown",
   "id": "2e8387cb-ed70-420f-aba1-8da19e8762a9",
   "metadata": {},
   "source": [
    "Problem: Bir yatırım/toplantı öncesinde gelecek ay ile ilgili satışların belirli değerlerde gerçekleşmesş olasılıkları belirlenmek isteniyor.\n",
    "\n",
    "Detaylar:\n",
    "\n",
    "-Dağılımın normal olduğu biliniyor.\n",
    "\n",
    "-Aylık ortalama satış sayısı 80K, standart sapma 5K\n",
    "\n",
    "-90K'dan fazla satış yapma olasılığı nedir?"
   ]
  },
  {
   "cell_type": "code",
   "execution_count": 68,
   "id": "35141831-ec1d-4585-b4b7-35a1c9a6d0e6",
   "metadata": {
    "tags": []
   },
   "outputs": [],
   "source": [
    "from scipy.stats import norm"
   ]
  },
  {
   "cell_type": "code",
   "execution_count": 81,
   "id": "883f0d98-e7f2-4c47-88a6-9c8a1639124d",
   "metadata": {
    "tags": []
   },
   "outputs": [
    {
     "name": "stdout",
     "output_type": "stream",
     "text": [
      "Satışların 90K dan fazla olma olasılığı: %2.275013194817921\n"
     ]
    }
   ],
   "source": [
    "# Satışların 90K'dan fazla olma olasılığı?\n",
    "value = 1-norm.cdf(90, 80, 5)\n",
    "print(f\"Satışların 90K dan fazla olma olasılığı: %{value * 100}\")"
   ]
  },
  {
   "cell_type": "code",
   "execution_count": 82,
   "id": "b134d358-cb58-4d40-b60e-6bf92b5cb889",
   "metadata": {
    "tags": []
   },
   "outputs": [
    {
     "name": "stdout",
     "output_type": "stream",
     "text": [
      "Satışların 70K dan fazla olma olasılığı: %97.72498680518208\n"
     ]
    }
   ],
   "source": [
    "# Satışların 70K'dan fazla olma olasılığı?\n",
    "value = 1-norm.cdf(70, 80, 5)\n",
    "print(f\"Satışların 70K dan fazla olma olasılığı: %{value * 100}\")"
   ]
  },
  {
   "cell_type": "code",
   "execution_count": 83,
   "id": "2c861ad7-e613-477e-a2b3-309778f4c8c9",
   "metadata": {
    "tags": []
   },
   "outputs": [
    {
     "name": "stdout",
     "output_type": "stream",
     "text": [
      "Satışların 73K dan az olma olasılığı: %8.075665923377107\n"
     ]
    }
   ],
   "source": [
    "# Satışların 73K'dan az olma olasılığı?\n",
    "value = norm.cdf(73, 80, 5)\n",
    "print(f\"Satışların 73K dan az olma olasılığı: %{value * 100}\")"
   ]
  },
  {
   "cell_type": "code",
   "execution_count": 85,
   "id": "7cd52705-275a-42d8-81fb-142e61a95c21",
   "metadata": {
    "tags": []
   },
   "outputs": [
    {
     "name": "stdout",
     "output_type": "stream",
     "text": [
      "Satışların 85K ile 90K arasında olma olasılığı: %13.590512198327787\n"
     ]
    }
   ],
   "source": [
    "# Satışların 85K ile 90K arasında olma olasılığı?\n",
    "value = norm.cdf(90, 80, 5) - norm.cdf(85, 80, 5)\n",
    "print(f\"Satışların 85K ile 90K arasında olma olasılığı: %{value * 100}\")"
   ]
  },
  {
   "cell_type": "code",
   "execution_count": null,
   "id": "2e020794-c8da-43de-aa85-961ce37e7e84",
   "metadata": {},
   "outputs": [],
   "source": []
  }
 ],
 "metadata": {
  "kernelspec": {
   "display_name": "Python 3 (ipykernel)",
   "language": "python",
   "name": "python3"
  },
  "language_info": {
   "codemirror_mode": {
    "name": "ipython",
    "version": 3
   },
   "file_extension": ".py",
   "mimetype": "text/x-python",
   "name": "python",
   "nbconvert_exporter": "python",
   "pygments_lexer": "ipython3",
   "version": "3.11.5"
  }
 },
 "nbformat": 4,
 "nbformat_minor": 5
}
