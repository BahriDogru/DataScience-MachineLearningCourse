{
 "cells": [
  {
   "cell_type": "markdown",
   "id": "a926e130-1919-4a62-a3d2-e137bfd395f2",
   "metadata": {
    "tags": []
   },
   "source": [
    "# Neden NumPy?"
   ]
  },
  {
   "cell_type": "markdown",
   "id": "74285cae-95b2-48cf-947d-be35c33e2806",
   "metadata": {
    "tags": []
   },
   "source": [
    "* Numpy Array içerisinde tek tip veri tutar."
   ]
  },
  {
   "cell_type": "code",
   "execution_count": 1,
   "id": "d5f65518-68eb-4c74-9972-2532add61b3c",
   "metadata": {
    "tags": []
   },
   "outputs": [],
   "source": [
    "a = [1,2,3,4,5]\n",
    "b= [6,7,8,9,10]"
   ]
  },
  {
   "cell_type": "code",
   "execution_count": 2,
   "id": "e1fba542-d5cb-4233-88ca-840d862adb1b",
   "metadata": {
    "tags": []
   },
   "outputs": [
    {
     "name": "stdout",
     "output_type": "stream",
     "text": [
      "[6, 14, 24, 36, 50]\n"
     ]
    }
   ],
   "source": [
    "ab=[]\n",
    "\n",
    "for i in range (0, len(a)):\n",
    "    ab.append(a[i]*b[i])\n",
    "\n",
    "print(ab)"
   ]
  },
  {
   "cell_type": "code",
   "execution_count": 3,
   "id": "58704215-2cfa-4b00-994b-91cbade71e42",
   "metadata": {
    "tags": []
   },
   "outputs": [],
   "source": [
    "import numpy as np"
   ]
  },
  {
   "cell_type": "code",
   "execution_count": 4,
   "id": "8e9084a0-bd11-4da7-a19c-560c9f66f815",
   "metadata": {
    "tags": []
   },
   "outputs": [],
   "source": [
    "a = np.array([1,2,3,4,5])\n",
    "b = np.array([6,7,8,9,10])"
   ]
  },
  {
   "cell_type": "code",
   "execution_count": 5,
   "id": "517079a9-7236-4574-9d10-11909b48d184",
   "metadata": {
    "tags": []
   },
   "outputs": [
    {
     "data": {
      "text/plain": [
       "array([ 6, 14, 24, 36, 50])"
      ]
     },
     "execution_count": 5,
     "metadata": {},
     "output_type": "execute_result"
    }
   ],
   "source": [
    "a*b"
   ]
  },
  {
   "cell_type": "markdown",
   "id": "40f0caac-23e1-48c2-858b-7047be13aa39",
   "metadata": {
    "jp-MarkdownHeadingCollapsed": true,
    "tags": []
   },
   "source": [
    "## Numpy array oluşturmak"
   ]
  },
  {
   "cell_type": "code",
   "execution_count": 6,
   "id": "de91c30e-c340-4e02-95ea-caec5538733d",
   "metadata": {
    "tags": []
   },
   "outputs": [],
   "source": [
    "a = np.array([1,2,3,4,5])"
   ]
  },
  {
   "cell_type": "code",
   "execution_count": 7,
   "id": "91d9657d-7c86-4621-a922-9c628a64cc29",
   "metadata": {
    "tags": []
   },
   "outputs": [
    {
     "data": {
      "text/plain": [
       "numpy.ndarray"
      ]
     },
     "execution_count": 7,
     "metadata": {},
     "output_type": "execute_result"
    }
   ],
   "source": [
    "type(a)"
   ]
  },
  {
   "cell_type": "markdown",
   "id": "a792c2bb-473c-42fa-8c1d-51cc054e73c3",
   "metadata": {
    "tags": []
   },
   "source": [
    "* Numpy Array içerisinde tek tip veri tutar. aşağıda olduğu gibi."
   ]
  },
  {
   "cell_type": "code",
   "execution_count": 8,
   "id": "4644040d-39a3-436f-98b0-53f0b136e19a",
   "metadata": {
    "tags": []
   },
   "outputs": [
    {
     "data": {
      "text/plain": [
       "array([ 3.14,  4.  ,  2.44,  2.  , 23.32], dtype=float32)"
      ]
     },
     "execution_count": 8,
     "metadata": {},
     "output_type": "execute_result"
    }
   ],
   "source": [
    "np.array([3.14,4,2.44,2,23.32], dtype=\"float32\")"
   ]
  },
  {
   "cell_type": "markdown",
   "id": "63c42cac-3700-4c00-be26-d367137af84f",
   "metadata": {},
   "source": [
    "* burada **dtype=\"float32\"** yazarak kendimizde veri tipini belirleyebiliriz."
   ]
  },
  {
   "cell_type": "markdown",
   "id": "833b10d1-55fa-4b94-ab95-3d866081f9a8",
   "metadata": {
    "jp-MarkdownHeadingCollapsed": true,
    "tags": []
   },
   "source": [
    "## NumPy da sıfırdan veri oluşturmak"
   ]
  },
  {
   "cell_type": "code",
   "execution_count": 9,
   "id": "2f6babff-fc3e-4bea-87ee-0fa3a40d5f17",
   "metadata": {
    "tags": []
   },
   "outputs": [
    {
     "data": {
      "text/plain": [
       "array([0, 0, 0, 0, 0, 0, 0, 0, 0, 0])"
      ]
     },
     "execution_count": 9,
     "metadata": {},
     "output_type": "execute_result"
    }
   ],
   "source": [
    "np.zeros(10, dtype=int) # burada sıfırlardan bana 10 elemanı bir array ver dedik ve bu elemanların tipi int olsun 'varsayılan olarak float64 gelirler'"
   ]
  },
  {
   "cell_type": "code",
   "execution_count": 10,
   "id": "a9a787b5-fd5d-4494-b35b-cc5e96c5db25",
   "metadata": {
    "tags": []
   },
   "outputs": [
    {
     "data": {
      "text/plain": [
       "array([[1, 1, 1, 1, 1],\n",
       "       [1, 1, 1, 1, 1],\n",
       "       [1, 1, 1, 1, 1]])"
      ]
     },
     "execution_count": 10,
     "metadata": {},
     "output_type": "execute_result"
    }
   ],
   "source": [
    "np.ones((3,5), dtype = int)"
   ]
  },
  {
   "cell_type": "code",
   "execution_count": 11,
   "id": "9854767e-c2dc-4eee-8217-e2cb33e57a98",
   "metadata": {
    "tags": []
   },
   "outputs": [
    {
     "data": {
      "text/plain": [
       "array([[3, 3, 3, 3, 3],\n",
       "       [3, 3, 3, 3, 3],\n",
       "       [3, 3, 3, 3, 3]])"
      ]
     },
     "execution_count": 11,
     "metadata": {},
     "output_type": "execute_result"
    }
   ],
   "source": [
    "np.full((3,5), 3, dtype = int)"
   ]
  },
  {
   "cell_type": "code",
   "execution_count": 12,
   "id": "06b7e2fb-7859-40e2-9211-e5fadee4a557",
   "metadata": {
    "tags": []
   },
   "outputs": [
    {
     "data": {
      "text/plain": [
       "array([ 0,  4,  8, 12, 16, 20, 24, 28, 32, 36, 40, 44])"
      ]
     },
     "execution_count": 12,
     "metadata": {},
     "output_type": "execute_result"
    }
   ],
   "source": [
    "np.arange(0,45,4)"
   ]
  },
  {
   "cell_type": "code",
   "execution_count": 13,
   "id": "2251432e-d122-4e34-81ac-1f7469f22c98",
   "metadata": {
    "tags": []
   },
   "outputs": [
    {
     "data": {
      "text/plain": [
       "array([ 0,  5, 11, 16, 22, 27, 33, 38, 44, 50])"
      ]
     },
     "execution_count": 13,
     "metadata": {},
     "output_type": "execute_result"
    }
   ],
   "source": [
    "np.linspace(0,50,10, dtype=int)"
   ]
  },
  {
   "cell_type": "code",
   "execution_count": 14,
   "id": "282a7a43-dc28-4287-aecf-4b5731ad610b",
   "metadata": {
    "tags": []
   },
   "outputs": [
    {
     "data": {
      "text/plain": [
       "array([[ 9.42867697,  7.71940644, 14.93007548,  7.30639838],\n",
       "       [23.75003986, 24.43476506, 18.37560067,  2.98714666],\n",
       "       [ 7.89768242, 15.47962699, 21.86628485, 23.87622401],\n",
       "       [15.12923545, 12.10698983, 12.43780821,  9.32021496]])"
      ]
     },
     "execution_count": 14,
     "metadata": {},
     "output_type": "execute_result"
    }
   ],
   "source": [
    "np.random.normal(15,6,(4,4))"
   ]
  },
  {
   "cell_type": "code",
   "execution_count": 15,
   "id": "fd6c1f97-0f92-41e3-bbb3-b7cba340cbce",
   "metadata": {
    "tags": []
   },
   "outputs": [
    {
     "data": {
      "text/plain": [
       "array([[ 3, 11,  0,  0],\n",
       "       [ 2,  1,  7,  7]])"
      ]
     },
     "execution_count": 15,
     "metadata": {},
     "output_type": "execute_result"
    }
   ],
   "source": [
    "np.random.randint(0,15,(2,4))"
   ]
  },
  {
   "cell_type": "markdown",
   "id": "8fbd93e1-ba69-4ba2-9a7f-ed4ed691d288",
   "metadata": {
    "tags": []
   },
   "source": [
    "## NumPy array özellikleri"
   ]
  },
  {
   "cell_type": "markdown",
   "id": "ca2c2371-99ec-440d-a4b7-fd5ea078fad0",
   "metadata": {},
   "source": [
    "* **ndim:** Boyut sayısı\n",
    "* **shape:** Boyut bilgisi\n",
    "* **size:** Toplam eleman sayısı\n",
    "* **dtype:** Array veri tipi"
   ]
  },
  {
   "cell_type": "code",
   "execution_count": 16,
   "id": "1e4e806c-989f-4fe7-a323-bc0629b8f318",
   "metadata": {
    "tags": []
   },
   "outputs": [
    {
     "data": {
      "text/plain": [
       "array([4, 8, 1, 9, 4, 3, 6, 1, 7, 8])"
      ]
     },
     "execution_count": 16,
     "metadata": {},
     "output_type": "execute_result"
    }
   ],
   "source": [
    "a = np.random.randint(10, size=10)\n",
    "a"
   ]
  },
  {
   "cell_type": "code",
   "execution_count": 17,
   "id": "1b4b620d-5e8c-4668-b7ef-3e10a9176955",
   "metadata": {
    "tags": []
   },
   "outputs": [
    {
     "data": {
      "text/plain": [
       "10"
      ]
     },
     "execution_count": 17,
     "metadata": {},
     "output_type": "execute_result"
    }
   ],
   "source": [
    "a.size # Toplam eleman sayısı"
   ]
  },
  {
   "cell_type": "code",
   "execution_count": 18,
   "id": "12db1f72-875d-4944-b92c-e0a455a642d3",
   "metadata": {
    "tags": []
   },
   "outputs": [
    {
     "data": {
      "text/plain": [
       "(10,)"
      ]
     },
     "execution_count": 18,
     "metadata": {},
     "output_type": "execute_result"
    }
   ],
   "source": [
    "a.shape #Boyut Bilgisi"
   ]
  },
  {
   "cell_type": "code",
   "execution_count": 19,
   "id": "c59d0d92-898a-4ddf-8f98-970d778d5caa",
   "metadata": {
    "tags": []
   },
   "outputs": [
    {
     "data": {
      "text/plain": [
       "dtype('int32')"
      ]
     },
     "execution_count": 19,
     "metadata": {},
     "output_type": "execute_result"
    }
   ],
   "source": [
    "a.dtype #Veri tipi"
   ]
  },
  {
   "cell_type": "code",
   "execution_count": 20,
   "id": "f28b83c5-5940-4bf5-b8d6-807460998258",
   "metadata": {
    "tags": []
   },
   "outputs": [
    {
     "data": {
      "text/plain": [
       "1"
      ]
     },
     "execution_count": 20,
     "metadata": {},
     "output_type": "execute_result"
    }
   ],
   "source": [
    "a.ndim # Boyut sayısı"
   ]
  },
  {
   "cell_type": "code",
   "execution_count": 21,
   "id": "51ab09c9-b2e7-44c8-9c1f-08959b3b48b5",
   "metadata": {
    "tags": []
   },
   "outputs": [
    {
     "data": {
      "text/plain": [
       "array([[0, 5, 7, 4, 0],\n",
       "       [1, 8, 3, 2, 0],\n",
       "       [3, 4, 7, 1, 2]])"
      ]
     },
     "execution_count": 21,
     "metadata": {},
     "output_type": "execute_result"
    }
   ],
   "source": [
    "b = np.random.randint(10, size = (3,5))\n",
    "b"
   ]
  },
  {
   "cell_type": "code",
   "execution_count": 22,
   "id": "cfb78b0d-c46c-4331-b7ef-4ff12265484b",
   "metadata": {
    "tags": []
   },
   "outputs": [
    {
     "data": {
      "text/plain": [
       "2"
      ]
     },
     "execution_count": 22,
     "metadata": {},
     "output_type": "execute_result"
    }
   ],
   "source": [
    "b.ndim"
   ]
  },
  {
   "cell_type": "code",
   "execution_count": 23,
   "id": "f6a36317-683d-4f9b-8b3b-cafef812db5f",
   "metadata": {
    "tags": []
   },
   "outputs": [
    {
     "data": {
      "text/plain": [
       "(3, 5)"
      ]
     },
     "execution_count": 23,
     "metadata": {},
     "output_type": "execute_result"
    }
   ],
   "source": [
    "b.shape"
   ]
  },
  {
   "cell_type": "code",
   "execution_count": 24,
   "id": "c5671827-c198-4d10-b539-312597946432",
   "metadata": {
    "tags": []
   },
   "outputs": [
    {
     "data": {
      "text/plain": [
       "15"
      ]
     },
     "execution_count": 24,
     "metadata": {},
     "output_type": "execute_result"
    }
   ],
   "source": [
    "b.size"
   ]
  },
  {
   "cell_type": "code",
   "execution_count": 25,
   "id": "23afb956-44e6-406f-8fdd-47fce9a6fa40",
   "metadata": {
    "tags": []
   },
   "outputs": [
    {
     "data": {
      "text/plain": [
       "dtype('int32')"
      ]
     },
     "execution_count": 25,
     "metadata": {},
     "output_type": "execute_result"
    }
   ],
   "source": [
    "b.dtype"
   ]
  },
  {
   "cell_type": "markdown",
   "id": "0653ec4b-474e-43a9-8ed1-11527ea84f03",
   "metadata": {
    "jp-MarkdownHeadingCollapsed": true,
    "tags": []
   },
   "source": [
    "### Resahpeing (yeniden boyutlandırma işlemi)"
   ]
  },
  {
   "cell_type": "code",
   "execution_count": 26,
   "id": "6c3be433-f8ce-4e17-a0c3-5167748755a7",
   "metadata": {
    "tags": []
   },
   "outputs": [
    {
     "data": {
      "text/plain": [
       "array([1, 2, 3, 4, 5, 6, 7, 8, 9])"
      ]
     },
     "execution_count": 26,
     "metadata": {},
     "output_type": "execute_result"
    }
   ],
   "source": [
    "a = np.arange(1,10)\n",
    "a"
   ]
  },
  {
   "cell_type": "code",
   "execution_count": 27,
   "id": "73415003-f92f-473e-b049-b5eba2e0f80e",
   "metadata": {
    "tags": []
   },
   "outputs": [
    {
     "data": {
      "text/plain": [
       "array([[1, 2, 3],\n",
       "       [4, 5, 6],\n",
       "       [7, 8, 9]])"
      ]
     },
     "execution_count": 27,
     "metadata": {},
     "output_type": "execute_result"
    }
   ],
   "source": [
    "b = a.reshape(3,3)\n",
    "b"
   ]
  },
  {
   "cell_type": "code",
   "execution_count": 28,
   "id": "3c4905af-80a9-4f7f-9a2c-8a67e7dcedcf",
   "metadata": {
    "tags": []
   },
   "outputs": [
    {
     "data": {
      "text/plain": [
       "1"
      ]
     },
     "execution_count": 28,
     "metadata": {},
     "output_type": "execute_result"
    }
   ],
   "source": [
    "a.ndim"
   ]
  },
  {
   "cell_type": "code",
   "execution_count": 29,
   "id": "e275ffdc-ddcb-4bf9-b576-28355fedfafb",
   "metadata": {
    "tags": []
   },
   "outputs": [
    {
     "data": {
      "text/plain": [
       "2"
      ]
     },
     "execution_count": 29,
     "metadata": {},
     "output_type": "execute_result"
    }
   ],
   "source": [
    "b.ndim"
   ]
  },
  {
   "cell_type": "markdown",
   "id": "c56bc459-ce31-480e-a2ff-72f4afc7a834",
   "metadata": {
    "tags": []
   },
   "source": [
    "* bazen tek boyutlu bir array i 2 boyutlu array yaparız ama tutulan veriler tek boyutlu bir array seviyesinde olsun isteriz."
   ]
  },
  {
   "cell_type": "code",
   "execution_count": 30,
   "id": "7462e64f-c35a-40bc-8bac-d6e21f026df4",
   "metadata": {
    "tags": []
   },
   "outputs": [
    {
     "data": {
      "text/plain": [
       "array([ 5,  6,  7,  8,  9, 10, 11, 12, 13, 14])"
      ]
     },
     "execution_count": 30,
     "metadata": {},
     "output_type": "execute_result"
    }
   ],
   "source": [
    "c = np.arange(5,15)\n",
    "c"
   ]
  },
  {
   "cell_type": "code",
   "execution_count": 31,
   "id": "0700ff6e-fb8d-46c2-8aa2-6383e7855163",
   "metadata": {
    "tags": []
   },
   "outputs": [
    {
     "data": {
      "text/plain": [
       "array([[ 5,  6,  7,  8,  9, 10, 11, 12, 13, 14]])"
      ]
     },
     "execution_count": 31,
     "metadata": {},
     "output_type": "execute_result"
    }
   ],
   "source": [
    "d = c.reshape(1,10)\n",
    "d"
   ]
  },
  {
   "cell_type": "code",
   "execution_count": 32,
   "id": "ab086543-5698-493d-bd36-222c30dfe74c",
   "metadata": {
    "tags": []
   },
   "outputs": [
    {
     "data": {
      "text/plain": [
       "1"
      ]
     },
     "execution_count": 32,
     "metadata": {},
     "output_type": "execute_result"
    }
   ],
   "source": [
    "c.ndim"
   ]
  },
  {
   "cell_type": "code",
   "execution_count": 33,
   "id": "a520c188-b602-40d0-8ac0-e7ffef682685",
   "metadata": {
    "tags": []
   },
   "outputs": [
    {
     "data": {
      "text/plain": [
       "2"
      ]
     },
     "execution_count": 33,
     "metadata": {},
     "output_type": "execute_result"
    }
   ],
   "source": [
    "d.ndim"
   ]
  },
  {
   "cell_type": "markdown",
   "id": "03af4005-ca18-442e-9cde-ef7322056bba",
   "metadata": {
    "jp-MarkdownHeadingCollapsed": true,
    "tags": []
   },
   "source": [
    "### Concatenation (Birleştirme işlemi)"
   ]
  },
  {
   "cell_type": "code",
   "execution_count": 34,
   "id": "83005338-34b6-4ce2-8513-405be710d10c",
   "metadata": {
    "tags": []
   },
   "outputs": [],
   "source": [
    "a = np.array([1,2,3])\n",
    "b = np.array([4,5,6])"
   ]
  },
  {
   "cell_type": "code",
   "execution_count": 35,
   "id": "1c094f67-7c79-4106-bd47-233af7e39cb2",
   "metadata": {
    "tags": []
   },
   "outputs": [
    {
     "data": {
      "text/plain": [
       "array([1, 2, 3, 4, 5, 6])"
      ]
     },
     "execution_count": 35,
     "metadata": {},
     "output_type": "execute_result"
    }
   ],
   "source": [
    "np.concatenate([a,b])"
   ]
  },
  {
   "cell_type": "markdown",
   "id": "17196b62-2906-4982-af92-e792595f00a6",
   "metadata": {
    "tags": []
   },
   "source": [
    "##### İki boyutlu array birleştirme"
   ]
  },
  {
   "cell_type": "code",
   "execution_count": 36,
   "id": "de87009d-2725-4b4e-b3b3-1ba69040a41f",
   "metadata": {
    "tags": []
   },
   "outputs": [],
   "source": [
    "c = np.array([[1,2,3],\n",
    "             [4,5,6]])"
   ]
  },
  {
   "cell_type": "code",
   "execution_count": 37,
   "id": "0157094e-928f-46b3-90f0-4581a598dedc",
   "metadata": {
    "tags": []
   },
   "outputs": [
    {
     "data": {
      "text/plain": [
       "array([[1, 2, 3],\n",
       "       [4, 5, 6],\n",
       "       [1, 2, 3],\n",
       "       [4, 5, 6]])"
      ]
     },
     "execution_count": 37,
     "metadata": {},
     "output_type": "execute_result"
    }
   ],
   "source": [
    "np.concatenate([c,c])"
   ]
  },
  {
   "cell_type": "code",
   "execution_count": 38,
   "id": "706e3ed3-3c3b-44e8-b6d9-d50e7d79d588",
   "metadata": {
    "tags": []
   },
   "outputs": [
    {
     "data": {
      "text/plain": [
       "array([[1, 2, 3, 1, 2, 3],\n",
       "       [4, 5, 6, 4, 5, 6]])"
      ]
     },
     "execution_count": 38,
     "metadata": {},
     "output_type": "execute_result"
    }
   ],
   "source": [
    "np.concatenate([c,c], axis = 1) # axis= 1 sütun bazılı birleştirme demek."
   ]
  },
  {
   "cell_type": "code",
   "execution_count": 39,
   "id": "c4c4d9fc-5c32-4af8-b994-9a9073d33e90",
   "metadata": {},
   "outputs": [
    {
     "data": {
      "text/plain": [
       "array([ 1,  2,  3, 99, 99,  3,  2,  1])"
      ]
     },
     "execution_count": 39,
     "metadata": {},
     "output_type": "execute_result"
    }
   ],
   "source": [
    "x = np.array([1,2,3,99,99,3,2,1])\n",
    "x"
   ]
  },
  {
   "cell_type": "markdown",
   "id": "8d969d64-7d6b-43f3-ab97-2adc9dc5a6e4",
   "metadata": {
    "jp-MarkdownHeadingCollapsed": true,
    "tags": []
   },
   "source": [
    "### Splitting (Ayırma ) işlemleri"
   ]
  },
  {
   "cell_type": "code",
   "execution_count": 40,
   "id": "3daf1dfa-bf08-4d26-9237-85455a45c221",
   "metadata": {
    "tags": []
   },
   "outputs": [
    {
     "data": {
      "text/plain": [
       "[array([1, 2, 3]), array([99, 99]), array([3, 2, 1])]"
      ]
     },
     "execution_count": 40,
     "metadata": {},
     "output_type": "execute_result"
    }
   ],
   "source": [
    "np.split(x,[3,5])"
   ]
  },
  {
   "cell_type": "markdown",
   "id": "b3891e9f-011b-4e91-8921-19b2fc06a577",
   "metadata": {
    "tags": []
   },
   "source": [
    "* burada split metoduna ilk olarak array-i veriyoruz sonrada hangi index ler arasında bölüneceğini yazıyoruz."
   ]
  },
  {
   "cell_type": "markdown",
   "id": "a343c417-8c0b-4439-8730-9e7e29945bc2",
   "metadata": {},
   "source": [
    "*  istersek aşağıdaki gibi atama işlemleri de yaparak arrayi kullanabiliriz."
   ]
  },
  {
   "cell_type": "code",
   "execution_count": 41,
   "id": "fb087b20-5d62-416c-9cb0-f18d56ef39e8",
   "metadata": {
    "tags": []
   },
   "outputs": [
    {
     "data": {
      "text/plain": [
       "array([1, 2, 3])"
      ]
     },
     "execution_count": 41,
     "metadata": {},
     "output_type": "execute_result"
    }
   ],
   "source": [
    "a,b,c = np.split(x,[3,5])\n",
    "a"
   ]
  },
  {
   "cell_type": "code",
   "execution_count": 42,
   "id": "25056060-4775-4939-b6ae-ebd2045f4906",
   "metadata": {
    "tags": []
   },
   "outputs": [
    {
     "data": {
      "text/plain": [
       "array([99, 99])"
      ]
     },
     "execution_count": 42,
     "metadata": {},
     "output_type": "execute_result"
    }
   ],
   "source": [
    "b"
   ]
  },
  {
   "cell_type": "code",
   "execution_count": 43,
   "id": "d7e42dd9-13ea-4c41-82bf-e7fea799a442",
   "metadata": {
    "tags": []
   },
   "outputs": [
    {
     "data": {
      "text/plain": [
       "array([3, 2, 1])"
      ]
     },
     "execution_count": 43,
     "metadata": {},
     "output_type": "execute_result"
    }
   ],
   "source": [
    "c"
   ]
  },
  {
   "cell_type": "markdown",
   "id": "64b9279d-fd24-4350-ad5d-61877259b922",
   "metadata": {},
   "source": [
    "##### İki boyutlu array ayırma."
   ]
  },
  {
   "cell_type": "code",
   "execution_count": 44,
   "id": "3aee83d8-392d-43c0-9e8a-0a23027b9e78",
   "metadata": {
    "tags": []
   },
   "outputs": [
    {
     "data": {
      "text/plain": [
       "array([[ 0,  1,  2,  3,  4],\n",
       "       [ 5,  6,  7,  8,  9],\n",
       "       [10, 11, 12, 13, 14],\n",
       "       [15, 16, 17, 18, 19]])"
      ]
     },
     "execution_count": 44,
     "metadata": {},
     "output_type": "execute_result"
    }
   ],
   "source": [
    "y = np.arange(20).reshape(4,5)\n",
    "y"
   ]
  },
  {
   "cell_type": "markdown",
   "id": "bc4741ff-b37e-4e3b-8f31-91358ed974e5",
   "metadata": {},
   "source": [
    "* buarda iki tane fonk var 1) vsplit yatayda arrayi ayırmak için 2) hsplit buda dikeyde arrayi ayırmak iin kullanılır."
   ]
  },
  {
   "cell_type": "code",
   "execution_count": 45,
   "id": "c32b783e-912e-4e3a-acc4-0661b7607d06",
   "metadata": {
    "tags": []
   },
   "outputs": [
    {
     "data": {
      "text/plain": [
       "array([[0, 1, 2, 3, 4],\n",
       "       [5, 6, 7, 8, 9]])"
      ]
     },
     "execution_count": 45,
     "metadata": {},
     "output_type": "execute_result"
    }
   ],
   "source": [
    "a,b=np.vsplit(y,[2])\n",
    "a"
   ]
  },
  {
   "cell_type": "code",
   "execution_count": 46,
   "id": "04f41f9f-f3b5-426b-84eb-a5de44598290",
   "metadata": {
    "tags": []
   },
   "outputs": [
    {
     "data": {
      "text/plain": [
       "array([[10, 11, 12, 13, 14],\n",
       "       [15, 16, 17, 18, 19]])"
      ]
     },
     "execution_count": 46,
     "metadata": {},
     "output_type": "execute_result"
    }
   ],
   "source": [
    "b"
   ]
  },
  {
   "cell_type": "code",
   "execution_count": 47,
   "id": "405ef974-bdf9-4045-997a-767c651ccebd",
   "metadata": {
    "tags": []
   },
   "outputs": [
    {
     "data": {
      "text/plain": [
       "array([[ 0,  1],\n",
       "       [ 5,  6],\n",
       "       [10, 11],\n",
       "       [15, 16]])"
      ]
     },
     "execution_count": 47,
     "metadata": {},
     "output_type": "execute_result"
    }
   ],
   "source": [
    "c,d = np.hsplit(y,[2])\n",
    "c"
   ]
  },
  {
   "cell_type": "code",
   "execution_count": 48,
   "id": "4d893365-1e60-4fc2-9ee3-31cbb8b8f136",
   "metadata": {
    "tags": []
   },
   "outputs": [
    {
     "data": {
      "text/plain": [
       "array([[ 2,  3,  4],\n",
       "       [ 7,  8,  9],\n",
       "       [12, 13, 14],\n",
       "       [17, 18, 19]])"
      ]
     },
     "execution_count": 48,
     "metadata": {},
     "output_type": "execute_result"
    }
   ],
   "source": [
    "d"
   ]
  },
  {
   "cell_type": "markdown",
   "id": "2ecef68a-edf4-4053-9698-d9aa4049c9db",
   "metadata": {
    "tags": []
   },
   "source": [
    "### Sorting (Sıralama) İşlemi"
   ]
  },
  {
   "cell_type": "code",
   "execution_count": 49,
   "id": "d4827ee6-fdc8-4146-b330-f313075403e6",
   "metadata": {
    "tags": []
   },
   "outputs": [
    {
     "data": {
      "text/plain": [
       "array([[20.98587444, 15.1997276 , 15.38649492, 20.70623178],\n",
       "       [21.48865677, 22.1970762 , 15.31041918, 22.13175763],\n",
       "       [24.35316367, 17.07931099, 15.20609798, 20.15096477],\n",
       "       [20.70408694, 24.62756557, 24.26406344, 16.49946591]])"
      ]
     },
     "execution_count": 49,
     "metadata": {},
     "output_type": "execute_result"
    }
   ],
   "source": [
    "z = np.random.normal(20,4,[4,4])\n",
    "z"
   ]
  },
  {
   "cell_type": "markdown",
   "id": "23412e28-b10b-47ed-9848-4110c8094971",
   "metadata": {},
   "source": [
    "* buraada iki şekilde sorting işlemi yapılabiri. 1) her satır kendi arasında 2) her sütun kendi arasında."
   ]
  },
  {
   "cell_type": "markdown",
   "id": "d3092a45-3a54-41e9-b1a3-3fd5b65e105f",
   "metadata": {},
   "source": [
    "* buarda axis=1 olunca row da sıralama yapıyor."
   ]
  },
  {
   "cell_type": "code",
   "execution_count": 50,
   "id": "a4211e8c-e313-4e76-afaf-b9acf773bcd8",
   "metadata": {
    "tags": []
   },
   "outputs": [
    {
     "data": {
      "text/plain": [
       "array([[15.1997276 , 15.38649492, 20.70623178, 20.98587444],\n",
       "       [15.31041918, 21.48865677, 22.13175763, 22.1970762 ],\n",
       "       [15.20609798, 17.07931099, 20.15096477, 24.35316367],\n",
       "       [16.49946591, 20.70408694, 24.26406344, 24.62756557]])"
      ]
     },
     "execution_count": 50,
     "metadata": {},
     "output_type": "execute_result"
    }
   ],
   "source": [
    "np.sort(z,axis=1)"
   ]
  },
  {
   "cell_type": "markdown",
   "id": "5ab6df09-94a4-4649-b8a7-04f3d8137411",
   "metadata": {},
   "source": [
    "* buarda axis=0 olunca coulmn da sıralama yapıyor."
   ]
  },
  {
   "cell_type": "code",
   "execution_count": 51,
   "id": "e3a516f4-17d8-4932-a67d-d6e9ec2a225c",
   "metadata": {
    "tags": []
   },
   "outputs": [
    {
     "data": {
      "text/plain": [
       "array([[20.70408694, 15.1997276 , 15.20609798, 16.49946591],\n",
       "       [20.98587444, 17.07931099, 15.31041918, 20.15096477],\n",
       "       [21.48865677, 22.1970762 , 15.38649492, 20.70623178],\n",
       "       [24.35316367, 24.62756557, 24.26406344, 22.13175763]])"
      ]
     },
     "execution_count": 51,
     "metadata": {},
     "output_type": "execute_result"
    }
   ],
   "source": [
    "np.sort(z, axis=0)"
   ]
  },
  {
   "cell_type": "markdown",
   "id": "98218209-64ec-4ebf-8af5-96251e940ff5",
   "metadata": {
    "tags": []
   },
   "source": [
    "### Array lerde index işlemleri"
   ]
  },
  {
   "cell_type": "code",
   "execution_count": 52,
   "id": "99357868-8f29-4cab-bb1f-b787ae45934b",
   "metadata": {
    "tags": []
   },
   "outputs": [
    {
     "data": {
      "text/plain": [
       "array([0, 1, 2, 3, 4, 5, 6, 7, 8, 9])"
      ]
     },
     "execution_count": 52,
     "metadata": {},
     "output_type": "execute_result"
    }
   ],
   "source": [
    "q = np.arange(10)\n",
    "q"
   ]
  },
  {
   "cell_type": "code",
   "execution_count": 53,
   "id": "4649be3f-42db-4af8-8251-4ba744dcbb6b",
   "metadata": {
    "tags": []
   },
   "outputs": [
    {
     "data": {
      "text/plain": [
       "array([0, 1, 2, 3, 4])"
      ]
     },
     "execution_count": 53,
     "metadata": {},
     "output_type": "execute_result"
    }
   ],
   "source": [
    "q[:5]"
   ]
  },
  {
   "cell_type": "code",
   "execution_count": 54,
   "id": "797715a5-6b94-4942-9ded-227c0d56e1ee",
   "metadata": {
    "tags": []
   },
   "outputs": [
    {
     "data": {
      "text/plain": [
       "array([[5, 0, 5, 9, 7],\n",
       "       [1, 2, 5, 1, 7],\n",
       "       [1, 8, 8, 4, 5]])"
      ]
     },
     "execution_count": 54,
     "metadata": {},
     "output_type": "execute_result"
    }
   ],
   "source": [
    "qw = np.random.randint(10, size=[3,5])\n",
    "qw"
   ]
  },
  {
   "cell_type": "code",
   "execution_count": 55,
   "id": "c072c587-90b7-4fdc-a435-f07865e3bee0",
   "metadata": {
    "tags": []
   },
   "outputs": [
    {
     "data": {
      "text/plain": [
       "7"
      ]
     },
     "execution_count": 55,
     "metadata": {},
     "output_type": "execute_result"
    }
   ],
   "source": [
    "qw[1,4]"
   ]
  },
  {
   "cell_type": "code",
   "execution_count": 56,
   "id": "f49d7770-eadd-4c56-ac4b-901a5f7ee066",
   "metadata": {
    "tags": []
   },
   "outputs": [],
   "source": [
    "qw[0,2] = 99999"
   ]
  },
  {
   "cell_type": "code",
   "execution_count": 57,
   "id": "de049ce7-04bc-4a43-bb7d-33ef38a691b5",
   "metadata": {
    "tags": []
   },
   "outputs": [
    {
     "data": {
      "text/plain": [
       "array([[    5,     0, 99999,     9,     7],\n",
       "       [    1,     2,     5,     1,     7],\n",
       "       [    1,     8,     8,     4,     5]])"
      ]
     },
     "execution_count": 57,
     "metadata": {},
     "output_type": "execute_result"
    }
   ],
   "source": [
    "qw"
   ]
  },
  {
   "cell_type": "markdown",
   "id": "279afc16-cc38-45f6-9e04-012e8d7ae786",
   "metadata": {
    "tags": []
   },
   "source": [
    "#### İki boyutlu array lerde slicing işlemleri "
   ]
  },
  {
   "cell_type": "code",
   "execution_count": 58,
   "id": "5c96a1a1-51b2-49f4-aab2-c788b36a212d",
   "metadata": {
    "tags": []
   },
   "outputs": [
    {
     "data": {
      "text/plain": [
       "array([[ 9, 13,  6, 12, 13],\n",
       "       [ 4,  9,  3,  2,  2],\n",
       "       [10, 10,  4,  4,  5],\n",
       "       [ 5,  2,  3,  4,  1],\n",
       "       [ 6,  3,  7,  8,  9]])"
      ]
     },
     "execution_count": 58,
     "metadata": {},
     "output_type": "execute_result"
    }
   ],
   "source": [
    "dizi = np.random.randint(15, size = [5,5])\n",
    "dizi"
   ]
  },
  {
   "cell_type": "code",
   "execution_count": 59,
   "id": "5223fd5b-1d22-4e06-adb4-e2f8db88fe10",
   "metadata": {
    "tags": []
   },
   "outputs": [
    {
     "data": {
      "text/plain": [
       "array([ 9,  4, 10,  5,  6])"
      ]
     },
     "execution_count": 59,
     "metadata": {},
     "output_type": "execute_result"
    }
   ],
   "source": [
    "dizi[:,0] # bütün satırlar ve ilk sütunu getir."
   ]
  },
  {
   "cell_type": "code",
   "execution_count": 60,
   "id": "ce41502a-76ff-465c-aea9-6217517b93e2",
   "metadata": {
    "tags": []
   },
   "outputs": [
    {
     "data": {
      "text/plain": [
       "array([[10,  4,  4],\n",
       "       [ 2,  3,  4]])"
      ]
     },
     "execution_count": 60,
     "metadata": {},
     "output_type": "execute_result"
    }
   ],
   "source": [
    "dizi[2:4,1:4]"
   ]
  },
  {
   "cell_type": "code",
   "execution_count": 61,
   "id": "61a537cf-1fa1-4f3f-a067-d83d4da57214",
   "metadata": {
    "tags": []
   },
   "outputs": [
    {
     "data": {
      "text/plain": [
       "array([[10, 10],\n",
       "       [ 5,  2]])"
      ]
     },
     "execution_count": 61,
     "metadata": {},
     "output_type": "execute_result"
    }
   ],
   "source": [
    "dizi [2:4,0:2]"
   ]
  },
  {
   "cell_type": "markdown",
   "id": "351797c4-5cc5-4d28-8258-0c05c76fafce",
   "metadata": {
    "tags": []
   },
   "source": [
    "#### Alt küme üzerinde işlem yapmak "
   ]
  },
  {
   "cell_type": "code",
   "execution_count": 62,
   "id": "62ecdc0c-ea85-4cdc-ba25-ed9098097b57",
   "metadata": {
    "tags": []
   },
   "outputs": [
    {
     "data": {
      "text/plain": [
       "array([[ 9, 11, 13,  4,  8],\n",
       "       [12, 13, 12,  1, 12],\n",
       "       [11,  8, 10, 13, 11],\n",
       "       [14,  2,  7, 15,  4],\n",
       "       [11, 13, 10,  5, 12]])"
      ]
     },
     "execution_count": 62,
     "metadata": {},
     "output_type": "execute_result"
    }
   ],
   "source": [
    "a = np.random.randint(16, size=[5,5])\n",
    "a"
   ]
  },
  {
   "cell_type": "code",
   "execution_count": 63,
   "id": "d60fd2f3-761b-4146-a32b-338ffdbedf89",
   "metadata": {
    "tags": []
   },
   "outputs": [
    {
     "data": {
      "text/plain": [
       "array([[13, 12,  1],\n",
       "       [ 8, 10, 13],\n",
       "       [ 2,  7, 15]])"
      ]
     },
     "execution_count": 63,
     "metadata": {},
     "output_type": "execute_result"
    }
   ],
   "source": [
    "alt_a=a[1:4,1:4]\n",
    "alt_a"
   ]
  },
  {
   "cell_type": "code",
   "execution_count": 64,
   "id": "2d374c87-4786-4c0a-9084-1f26ca5850dc",
   "metadata": {
    "tags": []
   },
   "outputs": [],
   "source": [
    "alt_a[0,0]=99999"
   ]
  },
  {
   "cell_type": "code",
   "execution_count": 65,
   "id": "3dd5b3fc-666d-4720-a123-68b11ec4d415",
   "metadata": {
    "tags": []
   },
   "outputs": [
    {
     "data": {
      "text/plain": [
       "array([[99999,    12,     1],\n",
       "       [    8,    10,    13],\n",
       "       [    2,     7,    15]])"
      ]
     },
     "execution_count": 65,
     "metadata": {},
     "output_type": "execute_result"
    }
   ],
   "source": [
    "alt_a"
   ]
  },
  {
   "cell_type": "code",
   "execution_count": 66,
   "id": "878a538c-7b48-4468-be5d-da3f85c5ae01",
   "metadata": {
    "tags": []
   },
   "outputs": [
    {
     "data": {
      "text/plain": [
       "array([[    9,    11,    13,     4,     8],\n",
       "       [   12, 99999,    12,     1,    12],\n",
       "       [   11,     8,    10,    13,    11],\n",
       "       [   14,     2,     7,    15,     4],\n",
       "       [   11,    13,    10,     5,    12]])"
      ]
     },
     "execution_count": 66,
     "metadata": {},
     "output_type": "execute_result"
    }
   ],
   "source": [
    "a"
   ]
  },
  {
   "cell_type": "code",
   "execution_count": 67,
   "id": "b6ef925a-3dc4-486b-91f8-d68a4061978a",
   "metadata": {
    "tags": []
   },
   "outputs": [
    {
     "data": {
      "text/plain": [
       "array([[ 7, 13, 14, 12,  6],\n",
       "       [10, 13,  1, 11,  6],\n",
       "       [ 8,  4,  8, 10, 11],\n",
       "       [ 2, 10, 14,  7,  3],\n",
       "       [10,  2,  5,  1, 11]])"
      ]
     },
     "execution_count": 67,
     "metadata": {},
     "output_type": "execute_result"
    }
   ],
   "source": [
    "b = np.random.randint(16, size=[5,5])\n",
    "b"
   ]
  },
  {
   "cell_type": "markdown",
   "id": "8c92eb8b-c3c3-40ba-97a6-8a7282edf884",
   "metadata": {},
   "source": [
    "* burada copy() metodu kullanılarak ana veri kümesine etki edilmeden alt kme üzerinde işlem yapılabilinir."
   ]
  },
  {
   "cell_type": "code",
   "execution_count": 68,
   "id": "c994aa84-d0d9-42fb-b536-44bcfea4d582",
   "metadata": {
    "tags": []
   },
   "outputs": [
    {
     "data": {
      "text/plain": [
       "array([[13,  1, 11],\n",
       "       [ 4,  8, 10],\n",
       "       [10, 14,  7]])"
      ]
     },
     "execution_count": 68,
     "metadata": {},
     "output_type": "execute_result"
    }
   ],
   "source": [
    "alt_b =b[1:4,1:4].copy()\n",
    "alt_b"
   ]
  },
  {
   "cell_type": "code",
   "execution_count": 69,
   "id": "6fcb621a-3a17-407b-85d5-a68a2859bbd1",
   "metadata": {
    "tags": []
   },
   "outputs": [],
   "source": [
    "alt_b[0,0]=99999"
   ]
  },
  {
   "cell_type": "code",
   "execution_count": 70,
   "id": "ea362ab8-1f1b-42dc-a9fd-4029ba4f8505",
   "metadata": {
    "tags": []
   },
   "outputs": [
    {
     "data": {
      "text/plain": [
       "array([[99999,     1,    11],\n",
       "       [    4,     8,    10],\n",
       "       [   10,    14,     7]])"
      ]
     },
     "execution_count": 70,
     "metadata": {},
     "output_type": "execute_result"
    }
   ],
   "source": [
    "alt_b"
   ]
  },
  {
   "cell_type": "code",
   "execution_count": 71,
   "id": "fbd7e591-86c0-4a2a-a871-9563d2962284",
   "metadata": {
    "tags": []
   },
   "outputs": [
    {
     "data": {
      "text/plain": [
       "array([[ 7, 13, 14, 12,  6],\n",
       "       [10, 13,  1, 11,  6],\n",
       "       [ 8,  4,  8, 10, 11],\n",
       "       [ 2, 10, 14,  7,  3],\n",
       "       [10,  2,  5,  1, 11]])"
      ]
     },
     "execution_count": 71,
     "metadata": {},
     "output_type": "execute_result"
    }
   ],
   "source": [
    "b"
   ]
  },
  {
   "cell_type": "markdown",
   "id": "6fdc5c46-8fbe-4f52-a109-52f9c290cc09",
   "metadata": {},
   "source": [
    "#### Fancy index ile eelemanlara erişmek"
   ]
  },
  {
   "cell_type": "code",
   "execution_count": 72,
   "id": "1c63206f-bbf9-464a-aca6-deb08584ecfa",
   "metadata": {
    "tags": []
   },
   "outputs": [
    {
     "data": {
      "text/plain": [
       "array([0, 1, 2, 3, 4, 5, 6, 7, 8, 9])"
      ]
     },
     "execution_count": 72,
     "metadata": {},
     "output_type": "execute_result"
    }
   ],
   "source": [
    "v  = np.arange(10)\n",
    "v"
   ]
  },
  {
   "cell_type": "code",
   "execution_count": 73,
   "id": "7217df19-72fa-4620-844b-f8bd3a1e67f1",
   "metadata": {
    "tags": []
   },
   "outputs": [
    {
     "data": {
      "text/plain": [
       "1"
      ]
     },
     "execution_count": 73,
     "metadata": {},
     "output_type": "execute_result"
    }
   ],
   "source": [
    "v[1]"
   ]
  },
  {
   "cell_type": "code",
   "execution_count": 74,
   "id": "a0690838-cfbc-4eef-9bcb-f00eeb3c34d7",
   "metadata": {
    "tags": []
   },
   "outputs": [
    {
     "data": {
      "text/plain": [
       "4"
      ]
     },
     "execution_count": 74,
     "metadata": {},
     "output_type": "execute_result"
    }
   ],
   "source": [
    "v[4]"
   ]
  },
  {
   "cell_type": "code",
   "execution_count": 75,
   "id": "be4c24ce-0b8b-4f12-9251-c8d01433fea2",
   "metadata": {
    "tags": []
   },
   "outputs": [
    {
     "data": {
      "text/plain": [
       "7"
      ]
     },
     "execution_count": 75,
     "metadata": {},
     "output_type": "execute_result"
    }
   ],
   "source": [
    "v[7]"
   ]
  },
  {
   "cell_type": "code",
   "execution_count": 76,
   "id": "e2022de2-283a-4eb2-aa56-9bc25f69672f",
   "metadata": {
    "tags": []
   },
   "outputs": [
    {
     "data": {
      "text/plain": [
       "[3, 2, 7]"
      ]
     },
     "execution_count": 76,
     "metadata": {},
     "output_type": "execute_result"
    }
   ],
   "source": [
    "[v[3], v[2], v[7]]"
   ]
  },
  {
   "cell_type": "markdown",
   "id": "8bdbe842-cdd8-4cd4-8a19-c7fd40041bfa",
   "metadata": {},
   "source": [
    "* **İşte buradaki işleme fancy işlemi denir.**"
   ]
  },
  {
   "cell_type": "code",
   "execution_count": 77,
   "id": "3646157f-f1ca-4096-ac47-73a8db29d9e7",
   "metadata": {
    "tags": []
   },
   "outputs": [],
   "source": [
    "al_getir=[1,3,5]"
   ]
  },
  {
   "cell_type": "code",
   "execution_count": 78,
   "id": "d7abfad2-c6e5-4ff4-9a07-d19d31e84f96",
   "metadata": {
    "tags": []
   },
   "outputs": [
    {
     "data": {
      "text/plain": [
       "array([1, 3, 5])"
      ]
     },
     "execution_count": 78,
     "metadata": {},
     "output_type": "execute_result"
    }
   ],
   "source": [
    "v[al_getir]"
   ]
  },
  {
   "cell_type": "markdown",
   "id": "b4b9290b-6865-4df9-b7e8-4be5bc7dba55",
   "metadata": {},
   "source": [
    "* İki boyutlu array lerde fancy işlemleri"
   ]
  },
  {
   "cell_type": "code",
   "execution_count": 79,
   "id": "89ae0d38-1623-45ee-94ec-c015baaa111a",
   "metadata": {
    "tags": []
   },
   "outputs": [
    {
     "data": {
      "text/plain": [
       "array([[0, 1, 2],\n",
       "       [3, 4, 5],\n",
       "       [6, 7, 8]])"
      ]
     },
     "execution_count": 79,
     "metadata": {},
     "output_type": "execute_result"
    }
   ],
   "source": [
    "m = np.arange(9).reshape([3,3])\n",
    "m"
   ]
  },
  {
   "cell_type": "code",
   "execution_count": 80,
   "id": "ad27de66-f36f-4c25-92d6-2e42a86355ae",
   "metadata": {
    "tags": []
   },
   "outputs": [],
   "source": [
    "satir = np.array([0,1])\n",
    "sutun = np.array([1,2])"
   ]
  },
  {
   "cell_type": "code",
   "execution_count": 81,
   "id": "6a679a3c-56cb-41e0-ad02-0cf5ef078e69",
   "metadata": {
    "tags": []
   },
   "outputs": [
    {
     "data": {
      "text/plain": [
       "array([1, 5])"
      ]
     },
     "execution_count": 81,
     "metadata": {},
     "output_type": "execute_result"
    }
   ],
   "source": [
    "m[satir,sutun]"
   ]
  },
  {
   "cell_type": "code",
   "execution_count": 82,
   "id": "46eeb1f2-cced-4800-9fad-eed2c151c56c",
   "metadata": {
    "tags": []
   },
   "outputs": [
    {
     "name": "stdout",
     "output_type": "stream",
     "text": [
      "[4 5 6]\n"
     ]
    }
   ],
   "source": [
    "import numpy as np\n",
    "m = np.array([[1, 2], [3, 4], [5, 6]])\n",
    "condition = m > 3\n",
    "selected_elements = m[condition]\n",
    "# Sonuç nedir?\n",
    "\n",
    "\n",
    "print(selected_elements)"
   ]
  },
  {
   "cell_type": "code",
   "execution_count": 83,
   "id": "20e7ecdd-9d43-43b7-92da-af5a0204b81d",
   "metadata": {
    "tags": []
   },
   "outputs": [
    {
     "data": {
      "text/plain": [
       "array([[19, 22],\n",
       "       [43, 50]])"
      ]
     },
     "execution_count": 83,
     "metadata": {},
     "output_type": "execute_result"
    }
   ],
   "source": [
    "import numpy as np\n",
    "\n",
    "A = np.array([[1, 2], [3, 4]])\n",
    "B = np.array([[5, 6], [7, 8]])\n",
    "result = np.dot(A, B)\n",
    "result"
   ]
  },
  {
   "cell_type": "code",
   "execution_count": 84,
   "id": "91489bdb-070a-4ea8-924d-c6c34962ca78",
   "metadata": {
    "tags": []
   },
   "outputs": [
    {
     "data": {
      "text/plain": [
       "array([[1, 3, 5],\n",
       "       [2, 4, 6]])"
      ]
     },
     "execution_count": 84,
     "metadata": {},
     "output_type": "execute_result"
    }
   ],
   "source": [
    "import numpy as np\n",
    "\n",
    "A = np.array([[1, 2], [3, 4], [5, 6]])\n",
    "transposed_A = np.transpose(A)\n",
    "transposed_A"
   ]
  },
  {
   "cell_type": "code",
   "execution_count": 85,
   "id": "b2f0c9cb-e264-404d-bcac-f9c98c4082b8",
   "metadata": {
    "tags": []
   },
   "outputs": [
    {
     "data": {
      "text/plain": [
       "array([[ 6,  8],\n",
       "       [10, 12]])"
      ]
     },
     "execution_count": 85,
     "metadata": {},
     "output_type": "execute_result"
    }
   ],
   "source": [
    "import numpy as np\n",
    "\n",
    "A = np.array([[1, 2], [3, 4]])\n",
    "B = np.array([[5, 6], [7, 8]])\n",
    "result = A + B\n",
    "result"
   ]
  },
  {
   "cell_type": "code",
   "execution_count": 86,
   "id": "860495c1-e095-44d3-8c7a-d5460be255ae",
   "metadata": {
    "tags": []
   },
   "outputs": [
    {
     "data": {
      "text/plain": [
       "array([10, 11, 12, 13, 14, 15, 16, 17, 18, 19])"
      ]
     },
     "execution_count": 86,
     "metadata": {},
     "output_type": "execute_result"
    }
   ],
   "source": [
    "import numpy as np\n",
    "\n",
    "arr = np.arange(10, 20)\n",
    "arr"
   ]
  },
  {
   "cell_type": "code",
   "execution_count": 87,
   "id": "aa7605e5-7c1a-491a-b14a-1308e1979b97",
   "metadata": {
    "tags": []
   },
   "outputs": [
    {
     "data": {
      "text/plain": [
       "array([[1., 0., 0.],\n",
       "       [0., 1., 0.],\n",
       "       [0., 0., 1.]])"
      ]
     },
     "execution_count": 87,
     "metadata": {},
     "output_type": "execute_result"
    }
   ],
   "source": [
    "import numpy as np\n",
    "\n",
    "I = np.eye(3) # 3x3 boyutunda birim matris\n",
    "I"
   ]
  },
  {
   "cell_type": "code",
   "execution_count": 88,
   "id": "7cbecaaf-a71c-45e0-9bcc-4b5c0d20fe45",
   "metadata": {
    "tags": []
   },
   "outputs": [
    {
     "data": {
      "text/plain": [
       "array([3, 6, 9])"
      ]
     },
     "execution_count": 88,
     "metadata": {},
     "output_type": "execute_result"
    }
   ],
   "source": [
    "import numpy as np\n",
    "\n",
    "A = np.array([[1, 2, 3], [4, 5, 6], [7, 8, 9]])\n",
    "selected_row = A[1, :]\n",
    "selected_column = A[:, 2]\n",
    "selected_column"
   ]
  },
  {
   "cell_type": "code",
   "execution_count": 89,
   "id": "c812fe53-2032-4e53-b5d8-eae219acce39",
   "metadata": {
    "tags": []
   },
   "outputs": [
    {
     "data": {
      "text/plain": [
       "array([[7, 7, 7],\n",
       "       [7, 7, 7]])"
      ]
     },
     "execution_count": 89,
     "metadata": {},
     "output_type": "execute_result"
    }
   ],
   "source": [
    "import numpy as np\n",
    "\n",
    "arr = np.full((2, 3), 7) # 2x3 boyutunda değeri 7 olan dizi\n",
    "arr"
   ]
  },
  {
   "cell_type": "code",
   "execution_count": null,
   "id": "52153095-674a-412f-8a33-519db4688e8a",
   "metadata": {},
   "outputs": [],
   "source": []
  }
 ],
 "metadata": {
  "kernelspec": {
   "display_name": "Python 3 (ipykernel)",
   "language": "python",
   "name": "python3"
  },
  "language_info": {
   "codemirror_mode": {
    "name": "ipython",
    "version": 3
   },
   "file_extension": ".py",
   "mimetype": "text/x-python",
   "name": "python",
   "nbconvert_exporter": "python",
   "pygments_lexer": "ipython3",
   "version": "3.11.5"
  }
 },
 "nbformat": 4,
 "nbformat_minor": 5
}
